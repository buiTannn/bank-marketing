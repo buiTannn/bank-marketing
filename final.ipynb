{
 "cells": [
  {
   "cell_type": "markdown",
   "id": "d09bcdfd",
   "metadata": {},
   "source": [
    "## BÁO CÁO:<br> PHÂN TÍCH DỮ LIỆU VÀ XÂY DỰNG MÔ HÌNH DỰ ĐOÁN KHÁCH HÀNG ĐĂNG KÝ TIỀN GỬI CÓ KỲ HẠN"
   ]
  },
  {
   "cell_type": "markdown",
   "id": "0ca39ec0",
   "metadata": {},
   "source": [
    "Đầu tiên ta import dữ liệu. <br>1 file bank-additional-full.csv dùng để train.<br>1 file bank-additional.csv dùng để test model\n",
    "<br> Dùng class ProfileReport trong thư viện ydata_profiling để generate ra bản báo cáo dữ liệu. "
   ]
  },
  {
   "cell_type": "code",
   "execution_count": 10,
   "id": "47c684bd",
   "metadata": {},
   "outputs": [],
   "source": [
    "import pandas as pd\n",
    "import numpy as np\n",
    "from imblearn.over_sampling import SMOTEN\n",
    "from sklearn.pipeline import Pipeline\n",
    "from sklearn.impute import SimpleImputer\n",
    "from sklearn.preprocessing import StandardScaler, OneHotEncoder, OrdinalEncoder\n",
    "from sklearn.compose import ColumnTransformer\n",
    "from sklearn.feature_selection import SelectPercentile, f_classif\n",
    "from sklearn.metrics import classification_report\n",
    "from sklearn.model_selection import GridSearchCV\n",
    "from lightgbm import LGBMClassifier\n",
    "from sklearn.linear_model import SGDClassifier\n"
   ]
  },
  {
   "cell_type": "code",
   "execution_count": 11,
   "id": "60da3c7b",
   "metadata": {},
   "outputs": [
    {
     "name": "stdout",
     "output_type": "stream",
     "text": [
      "(41188, 21)\n"
     ]
    }
   ],
   "source": [
    "data_train = pd.read_csv('bank-additional-full.csv', sep=';')\n",
    "data_test = pd.read_csv('bank-additional.csv', sep=';')\n",
    "print(data_train.shape)\n"
   ]
  },
  {
   "cell_type": "code",
   "execution_count": 12,
   "id": "faf776d5",
   "metadata": {},
   "outputs": [
    {
     "name": "stdout",
     "output_type": "stream",
     "text": [
      "Số dòng trùng trong full: 24\n",
      "Số dòng sau khi loại bỏ trùng lặp: 41176\n",
      "Số dòng ban đầu: 41176\n",
      "Số dòng trùng với test: 4119\n",
      "Số dòng sau khi loại bỏ trùng: 37057\n"
     ]
    }
   ],
   "source": [
    "\n",
    "duplicate_counts = data_train[data_train.duplicated(keep=False)]\n",
    "print(\"Số dòng trùng trong full:\", duplicate_counts.shape[0])\n",
    "\n",
    "# Loại bỏ các dòng trùng lặp, chỉ giữ lại bản gốc đầu tiên\n",
    "data_train = data_train.drop_duplicates(keep='first')\n",
    "print(\"Số dòng sau khi loại bỏ trùng lặp:\", data_train.shape[0])\n",
    "\n",
    "# Bước 1: Merge với indicator để đánh dấu dòng trùng\n",
    "merged = pd.merge(\n",
    "    data_train, \n",
    "    data_test, \n",
    "    how=\"left\",  \n",
    "    indicator=True \n",
    ")\n",
    "\n",
    "# Bước 2: Lọc chỉ dòng KHÔNG trùng (_merge == 'left_only')\n",
    "data_train_cleaned = merged[merged['_merge'] == 'left_only'].drop(columns='_merge')\n",
    "\n",
    "print(\"Số dòng ban đầu:\", len(data_train))\n",
    "print(\"Số dòng trùng với test:\", len(data_train) - len(data_train_cleaned))\n",
    "print(\"Số dòng sau khi loại bỏ trùng:\", len(data_train_cleaned))\n",
    "\n"
   ]
  },
  {
   "cell_type": "code",
   "execution_count": 13,
   "id": "4b6bf10f",
   "metadata": {},
   "outputs": [
    {
     "name": "stdout",
     "output_type": "stream",
     "text": [
      "(37057, 20) (37057,)\n"
     ]
    }
   ],
   "source": [
    "x_train = data_train_cleaned.drop(columns=['y'])\n",
    "y_train = data_train_cleaned['y']\n",
    "x_test = data_test.drop(columns=['y'])\n",
    "y_test = data_test['y']\n",
    "print(x_train.shape, y_train.shape)\n"
   ]
  },
  {
   "cell_type": "code",
   "execution_count": 14,
   "id": "c981145b",
   "metadata": {},
   "outputs": [
    {
     "name": "stdout",
     "output_type": "stream",
     "text": [
      "y\n",
      "0    32869\n",
      "1     4188\n",
      "Name: count, dtype: int64\n",
      "------------------------\n"
     ]
    },
    {
     "name": "stderr",
     "output_type": "stream",
     "text": [
      "c:\\Users\\buiqu\\anaconda3\\Lib\\site-packages\\imblearn\\over_sampling\\_smote\\base.py:992: FutureWarning: The parameter `n_jobs` has been deprecated in 0.10 and will be removed in 0.12. You can pass an nearest neighbors estimator where `n_jobs` is already set instead.\n",
      "  warnings.warn(\n"
     ]
    },
    {
     "name": "stdout",
     "output_type": "stream",
     "text": [
      "y\n",
      "0    32869\n",
      "1    23008\n",
      "Name: count, dtype: int64\n"
     ]
    }
   ],
   "source": [
    "\n",
    "target = {'yes' : 1, 'no': 0}\n",
    "y_train = y_train.map(target)\n",
    "y_test = y_test.map(target)\n",
    "print(y_train.value_counts())\n",
    "print('------------------------')\n",
    "column_names = x_train.columns\n",
    "smoten = SMOTEN(random_state=42, sampling_strategy=0.7, k_neighbors=5, n_jobs=-1)\n",
    "x_train, y_train = smoten.fit_resample(x_train, y_train)\n",
    "x_train = pd.DataFrame(x_train, columns=column_names)\n",
    "print(y_train.value_counts())\n"
   ]
  },
  {
   "cell_type": "markdown",
   "id": "6a2264bf",
   "metadata": {},
   "source": [
    "### Data Preprocessing\n",
    "<br> Tiến hành xử lý các cột\n",
    "<br> Chia dữ liệu thành 2 loại\n",
    "<br>1. Numerical (dạng số): Có thể số nguyên hoặc thực\n",
    "<br>2. Categofical (Phân loại): gồm Nominal (định danh), Ordinal(thứ bậc), boolen (logic) "
   ]
  },
  {
   "cell_type": "markdown",
   "id": "fc356069",
   "metadata": {},
   "source": [
    "Có 2 cột dạng số đặc biệt là cột month và day_of_week vì dữ liệu có tính chất chu kỳ (cyclical). \n",
    "<br>Chúng ta xử dụng một kỹ thuật cyclical_encoding để sử dụng hàm sin(), cos() để ánh xạ giá trị vào không gian 2 chiều (Trên vòng tròn đơn vị)\n",
    "<br>Có một cột đặc biệt nữa là cột default vì giá trị unknow khá cao (20.87%) nên tôi đề xuất 1 giải pháp là tạo riêng 1 cột default_unknow (1 nếu giá trị unknow, 0 nếu không phải), và thay giá trị unknow trong cột default bằng giá trị mode và sau đó mã hóa nhị phân"
   ]
  },
  {
   "cell_type": "code",
   "execution_count": 15,
   "id": "afa9d598",
   "metadata": {},
   "outputs": [
    {
     "name": "stdout",
     "output_type": "stream",
     "text": [
      "0         no\n",
      "1    unknown\n",
      "2         no\n",
      "3         no\n",
      "4         no\n",
      "Name: default, dtype: object\n",
      "(55877, 23)\n"
     ]
    }
   ],
   "source": [
    "\n",
    "\n",
    "month_map = {\n",
    "    'jan': 1, 'feb': 2, 'mar': 3, 'apr': 4, 'may': 5, 'jun': 6,\n",
    "    'jul': 7, 'aug': 8, 'sep': 9, 'oct': 10, 'nov': 11, 'dec': 12\n",
    "}\n",
    "\n",
    "day_map = {\n",
    "    'mon': 1, 'tue': 2, 'wed': 3, 'thu': 4, 'fri': 5\n",
    "}\n",
    "\n",
    "x_train['month'] = x_train['month'].map(month_map)\n",
    "x_test['month'] = x_test['month'].map(month_map)\n",
    "x_train['day_of_week'] = x_train['day_of_week'].map(day_map)\n",
    "x_test['day_of_week'] = x_test['day_of_week'].map(day_map)\n",
    "def cyclical_encoding(df, col, max_val):\n",
    "    df[col + '_sin'] = np.sin(2 * np.pi * df[col]/max_val)\n",
    "    df[col + '_cos'] = np.cos(2 * np.pi * df[col]/max_val)\n",
    "    return df\n",
    "\n",
    "x_train = cyclical_encoding(x_train, 'month', 12)\n",
    "x_train = cyclical_encoding(x_train, 'day_of_week', 5)\n",
    "x_test = cyclical_encoding(x_test, 'month', 12)\n",
    "x_test = cyclical_encoding(x_test, 'day_of_week', 5)\n",
    "\n",
    "x_train = x_train.drop(columns=['month', 'day_of_week'])\n",
    "x_test = x_test.drop(columns=['month', 'day_of_week'])\n",
    "#tạo cột mới với tên default_unknown, giá trị là 1 nếu default = unknown, ngược lại là 0 ( gồm yes và no)\n",
    "x_train['default_unknown'] = (x_train['default'] == 'unknown').astype(int)\n",
    "x_test['default_unknown'] = (x_test['default'] == 'unknown').astype(int)\n",
    "#Việc một giá trị là 'unknown' không hẳn chỉ là thiếu dữ liệu, mà bản thân sự thiếu đó cũng có thể mang thông tin quan trọng.\n",
    "numeric_columns = ['age', 'duration', 'campaign', 'pdays', 'previous', \n",
    "                   'emp.var.rate', 'cons.price.idx', 'cons.conf.idx', 'euribor3m', 'nr.employed', \n",
    "                   'month_sin', 'month_cos', 'day_of_week_sin', 'day_of_week_cos']\n",
    "nominal_columns = ['job','marital','contact','poutcome']\n",
    "binary_columns = ['default','housing','loan', 'default_unknown']\n",
    "ordinal_columns = ['education']\n",
    "\n",
    "education_categories = ['illiterate','basic.4y', 'basic.6y', 'basic.9y', 'high.school', \n",
    "    'professional.course', 'university.degree'\n",
    "] \n",
    "print(x_train['default'].head())\n",
    "print(x_train.shape)\n"
   ]
  },
  {
   "cell_type": "markdown",
   "id": "6b735337",
   "metadata": {},
   "source": [
    "Tiếp theo tiền xử lý các cột dữ liệu và xử lý các giá trị unknown ở từng cột"
   ]
  },
  {
   "cell_type": "code",
   "execution_count": 16,
   "id": "38b7598c",
   "metadata": {},
   "outputs": [],
   "source": [
    "#Preprocess for numeric data(dữ liệu số)\n",
    "numeric_pipeline = Pipeline([\n",
    "    ('imputer', SimpleImputer(missing_values=np.nan, strategy='median')), # xu li du lieu mat mat\n",
    "    ('scaler', StandardScaler())  \n",
    "])\n",
    "\n",
    "#Preprocess for nominal data (dữ liệu phân loại, không có thứ tự)\n",
    "# Chẳng hạn như 'job', 'marital', 'contact', 'poutcome'\n",
    "nominal_pipeline = Pipeline([\n",
    "    ('imputer',SimpleImputer(missing_values='unknown',strategy='most_frequent')),\n",
    "    ('encoder',OneHotEncoder())\n",
    "])\n",
    "\n",
    "\n",
    "#Preprocess for binary data( dữ liệu nhị phân)\n",
    "# Chẳng hạn như 'default', 'housing', 'loan', 'default_unknown'\n",
    "binary_pipeline = Pipeline([\n",
    "    ('imputer',SimpleImputer(missing_values='unknown',strategy='most_frequent')),\n",
    "    ('encoder',OneHotEncoder(handle_unknown='ignore'))\n",
    "])\n",
    "\n",
    "#Preprocess for ordinal data(dữ liệu có thứ tự)\n",
    "# Chẳng hạn như 'education'\n",
    "ordinal_pipeline = Pipeline([\n",
    "    ('imputer',SimpleImputer(missing_values='unknown',strategy='most_frequent')),\n",
    "    ('encoder',OrdinalEncoder(categories=[education_categories]))\n",
    "])"
   ]
  },
  {
   "cell_type": "markdown",
   "id": "ee494738",
   "metadata": {},
   "source": [
    "Gom tất cả các bước tiền xử lý lại trong một đối tượng preprocessor bằng Class ColumnTransformer\n"
   ]
  },
  {
   "cell_type": "code",
   "execution_count": 17,
   "id": "bed8da51",
   "metadata": {},
   "outputs": [],
   "source": [
    "# Preprocess for all data\n",
    "preprocessor = ColumnTransformer(\n",
    "    transformers=[\n",
    "        ('num', numeric_pipeline, numeric_columns),\n",
    "        ('nom', nominal_pipeline, nominal_columns),\n",
    "        ('bin', binary_pipeline, binary_columns),\n",
    "        ('ord', ordinal_pipeline, ordinal_columns)\n",
    "    ]\n",
    ")"
   ]
  },
  {
   "cell_type": "markdown",
   "id": "4c62238c",
   "metadata": {},
   "source": [
    "Kiểm tra dữ liệu sau khi xử lý"
   ]
  },
  {
   "cell_type": "code",
   "execution_count": 18,
   "id": "2c380aab",
   "metadata": {},
   "outputs": [
    {
     "name": "stdout",
     "output_type": "stream",
     "text": [
      "(55877, 23)\n",
      "         0         1        2         3         4         5         6   \\\n",
      "0  1.577648 -0.147963 -0.48975  0.321786 -0.428384  0.851423  0.812006   \n",
      "1  1.666544 -0.567177 -0.48975  0.321786 -0.428384  0.851423  0.812006   \n",
      "2 -0.111360 -0.278967 -0.48975  0.321786 -0.428384  0.851423  0.812006   \n",
      "3  0.155325 -0.559691 -0.48975  0.321786 -0.428384  0.851423  0.812006   \n",
      "4  1.577648  0.024214 -0.48975  0.321786 -0.428384  0.851423  0.812006   \n",
      "\n",
      "         7         8         9   ...   32   33   34   35   36   37   38   39  \\\n",
      "0  0.765485  0.930235  0.565732  ...  0.0  1.0  0.0  1.0  0.0  1.0  0.0  1.0   \n",
      "1  0.765485  0.930235  0.565732  ...  0.0  1.0  0.0  1.0  0.0  1.0  0.0  0.0   \n",
      "2  0.765485  0.930235  0.565732  ...  0.0  1.0  0.0  0.0  1.0  1.0  0.0  1.0   \n",
      "3  0.765485  0.930235  0.565732  ...  0.0  1.0  0.0  1.0  0.0  1.0  0.0  1.0   \n",
      "4  0.765485  0.930235  0.565732  ...  0.0  1.0  0.0  1.0  0.0  0.0  1.0  1.0   \n",
      "\n",
      "    40   41  \n",
      "0  0.0  1.0  \n",
      "1  1.0  4.0  \n",
      "2  0.0  4.0  \n",
      "3  0.0  2.0  \n",
      "4  0.0  4.0  \n",
      "\n",
      "[5 rows x 42 columns]\n"
     ]
    }
   ],
   "source": [
    "x_train_processed = preprocessor.fit_transform(x_train, y_train)\n",
    "x_train_processed_df = pd.DataFrame(x_train_processed)\n",
    "print(x_train.shape)\n",
    "print(x_train_processed_df.head())"
   ]
  },
  {
   "cell_type": "markdown",
   "id": "55a3b993",
   "metadata": {},
   "source": [
    "Ta có thể thấy số lượng đặc trưng lên đến 41 cột sau khi mã hóa. Điều này làm nguy cơ tăng overfitting và làm chậm quá trình huấn luyện.\n",
    "<br>Ta có thể xử dụng một kỹ thuật SelectPercentile để lựa chọn các đặc trưng (feature_selection) nó đánh giá mức đôn quan trọng từng đặc trưng bằng cách xử dụng một hàm kiểm định thống kê "
   ]
  },
  {
   "cell_type": "code",
   "execution_count": 19,
   "id": "48787d89",
   "metadata": {},
   "outputs": [
    {
     "name": "stdout",
     "output_type": "stream",
     "text": [
      "(55877, 21)\n"
     ]
    }
   ],
   "source": [
    "# Pipeline preprocessing and future_selection\n",
    "preprocessing_pipeline = Pipeline([\n",
    "    ('preprocessor', preprocessor),\n",
    "    ('feature_selection', SelectPercentile(score_func=f_classif, percentile=50))\n",
    "])\n",
    "x_train_processed = preprocessing_pipeline.fit_transform(x_train, y_train)\n",
    "x_test_processed = preprocessing_pipeline.transform(x_test)\n",
    "print(x_train_processed.shape)"
   ]
  },
  {
   "cell_type": "markdown",
   "id": "c99f0efb",
   "metadata": {},
   "source": [
    "Áp dụng GridSearchCV cho LGBMClassifier và Logic Regresstion\n",
    "<br>Vì theo bài toán ta sẽ ưu tiên tìm kiếm khách hàng tiềm năng có nghĩa là khách hàng say Yes (Class Possitive) nên ta ưu tiên độ bao phủ của class Possitive nên tôi lựa chọn Recall làm điểm đánh giá mô hình"
   ]
  },
  {
   "cell_type": "code",
   "execution_count": null,
   "id": "7d041373",
   "metadata": {},
   "outputs": [
    {
     "name": "stdout",
     "output_type": "stream",
     "text": [
      "Fitting 3 folds for each of 81 candidates, totalling 243 fits\n",
      "[LightGBM] [Info] Number of positive: 23008, number of negative: 32869\n",
      "[LightGBM] [Info] Auto-choosing row-wise multi-threading, the overhead of testing was 0.002018 seconds.\n",
      "You can set `force_row_wise=true` to remove the overhead.\n",
      "And if memory is not enough, you can set `force_col_wise=true`.\n",
      "[LightGBM] [Info] Total Bins 646\n",
      "[LightGBM] [Info] Number of data points in the train set: 55877, number of used features: 21\n",
      "[LightGBM] [Info] [binary:BoostFromScore]: pavg=0.411762 -> initscore=-0.356688\n",
      "[LightGBM] [Info] Start training from score -0.356688\n",
      "LGBMClassifier - Bộ tham số tốt nhất: {'classifier__learning_rate': 0.01, 'classifier__max_depth': -1, 'classifier__n_estimators': 300, 'classifier__num_leaves': 100}\n",
      "LGBMClassifier - Recall tốt nhất trên tập train: 0.8838198101830468\n",
      "LGBMClassifier - Kết quả trên tập test:\n",
      "              precision    recall  f1-score   support\n",
      "\n",
      "           0       0.97      0.89      0.93      3668\n",
      "           1       0.48      0.80      0.60       451\n",
      "\n",
      "    accuracy                           0.88      4119\n",
      "   macro avg       0.73      0.85      0.77      4119\n",
      "weighted avg       0.92      0.88      0.90      4119\n",
      "\n"
     ]
    }
   ],
   "source": [
    "\n",
    "\n",
    "# Dùng recall scorer an toàn\n",
    "\n",
    "# Pipeline LightGBM\n",
    "lgbm_pipeline = Pipeline([\n",
    "    ('preprocessing_and_selection', preprocessing_pipeline),\n",
    "    ('classifier', LGBMClassifier(random_state=42))\n",
    "])\n",
    "\n",
    "# Grid search tham số\n",
    "lgbm_param_grid = {\n",
    "    'classifier__n_estimators': [100, 200, 300],\n",
    "    'classifier__learning_rate': [0.01, 0.1, 0.3],\n",
    "    'classifier__num_leaves': [31, 50, 100],\n",
    "    'classifier__max_depth': [-1, 10, 20],\n",
    "}\n",
    "\n",
    "\n",
    "# GridSearchCV tối ưu recall\n",
    "lgbm_grid_search = GridSearchCV(\n",
    "    estimator=lgbm_pipeline,\n",
    "    param_grid=lgbm_param_grid,\n",
    "    cv=3,\n",
    "    scoring= 'recall',\n",
    "    n_jobs=-1,\n",
    "    verbose=1,\n",
    "    error_score='raise'\n",
    ")\n",
    "\n",
    "\n",
    "# Huấn luyện mô hình\n",
    "lgbm_grid_search.fit(x_train, y_train)\n",
    "\n",
    "# In kết quả\n",
    "print(\"LGBMClassifier - Bộ tham số tốt nhất:\", lgbm_grid_search.best_params_)\n",
    "print(\"LGBMClassifier - Recall tốt nhất trên tập train:\", lgbm_grid_search.best_score_)\n",
    "\n",
    "# Đánh giá trên tập test\n",
    "y_pred_lgbm = lgbm_grid_search.predict(x_test)\n",
    "print(\"LGBMClassifier - Kết quả trên tập test:\")\n",
    "print(classification_report(y_test, y_pred_lgbm))\n",
    "\n",
    "\n"
   ]
  },
  {
   "cell_type": "code",
   "execution_count": 21,
   "id": "6e214b22",
   "metadata": {},
   "outputs": [
    {
     "name": "stdout",
     "output_type": "stream",
     "text": [
      "Fitting 3 folds for each of 8 candidates, totalling 24 fits\n",
      "Best Params: {'classifier__C': 0.01, 'classifier__penalty': 'l2'}\n",
      "Best Score (Recall on CV): 0.7854667948970125\n",
      "Classification Report on Test Set:\n",
      "              precision    recall  f1-score   support\n",
      "\n",
      "           0       0.97      0.87      0.92      3668\n",
      "           1       0.42      0.75      0.54       451\n",
      "\n",
      "    accuracy                           0.86      4119\n",
      "   macro avg       0.70      0.81      0.73      4119\n",
      "weighted avg       0.91      0.86      0.88      4119\n",
      "\n"
     ]
    }
   ],
   "source": [
    "from sklearn.linear_model import LogisticRegression\n",
    "# Pipeline với Logistic Regression\n",
    "logreg_pipeline = Pipeline([\n",
    "    ('preprocessing_and_selection', preprocessing_pipeline),\n",
    "    ('classifier', LogisticRegression(random_state=42, solver='liblinear')) \n",
    "])\n",
    "\n",
    "# Grid search tham số cho LogisticRegression\n",
    "param_grid = {\n",
    "    'classifier__C': [0.01, 0.1, 1, 10],  # nghịch đảo của regularization strength\n",
    "    'classifier__penalty': ['l1', 'l2'],\n",
    "}\n",
    "\n",
    "# GridSearchCV tối ưu recall\n",
    "grid_search = GridSearchCV(\n",
    "    estimator=logreg_pipeline,\n",
    "    param_grid=param_grid,\n",
    "    scoring='recall',\n",
    "    cv=3,\n",
    "    n_jobs=-1,\n",
    "    verbose=1\n",
    ")\n",
    "\n",
    "# Huấn luyện mô hình\n",
    "grid_search.fit(x_train, y_train)\n",
    "\n",
    "# Dự đoán và đánh giá\n",
    "best_model = grid_search.best_estimator_\n",
    "y_pred = best_model.predict(x_test)\n",
    "\n",
    "print(\"Best Params:\", grid_search.best_params_)\n",
    "print(\"Best Score (Recall on CV):\", grid_search.best_score_)\n",
    "print(\"Classification Report on Test Set:\")\n",
    "print(classification_report(y_test, y_pred))\n"
   ]
  },
  {
   "cell_type": "markdown",
   "id": "e7b8ad7c",
   "metadata": {},
   "source": []
  }
 ],
 "metadata": {
  "kernelspec": {
   "display_name": "base",
   "language": "python",
   "name": "python3"
  },
  "language_info": {
   "codemirror_mode": {
    "name": "ipython",
    "version": 3
   },
   "file_extension": ".py",
   "mimetype": "text/x-python",
   "name": "python",
   "nbconvert_exporter": "python",
   "pygments_lexer": "ipython3",
   "version": "3.12.4"
  }
 },
 "nbformat": 4,
 "nbformat_minor": 5
}
